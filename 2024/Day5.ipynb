{
 "cells": [
  {
   "cell_type": "code",
   "execution_count": 2,
   "metadata": {},
   "outputs": [],
   "source": [
    "import numpy as np\n",
    "import pandas as pd\n",
    "import warnings\n",
    "from functools import lru_cache\n",
    "\n",
    "warnings.filterwarnings(\"ignore\")"
   ]
  },
  {
   "cell_type": "markdown",
   "metadata": {},
   "source": [
    "# Day 5"
   ]
  },
  {
   "cell_type": "code",
   "execution_count": 3,
   "metadata": {},
   "outputs": [
    {
     "data": {
      "text/plain": [
       "5129"
      ]
     },
     "execution_count": 3,
     "metadata": {},
     "output_type": "execute_result"
    }
   ],
   "source": [
    "rules = []\n",
    "updates = []\n",
    "with open(\"../inputs/2024/Day5.txt\", \"r\") as f:\n",
    "    for row in f.readlines():\n",
    "        if \"|\" in row:\n",
    "            rules.append(row.replace(\" \", \"\").replace(\"\\n\", \"\"))\n",
    "        if \",\" in row:\n",
    "            updates.append(row.replace(\" \", \"\").replace(\"\\n\", \"\").split(\",\"))\n",
    "\n",
    "# print(rules)\n",
    "\n",
    "# rules = set([\n",
    "#     '47|53',\n",
    "#     '97|13',\n",
    "#     '97|61',\n",
    "#     '97|47',\n",
    "#     '75|29',\n",
    "#     '61|13',\n",
    "#     '75|53',\n",
    "#     '29|13',\n",
    "#     '97|29',\n",
    "#     '53|29',\n",
    "#     '61|53',\n",
    "#     '97|53',\n",
    "#     '61|29',\n",
    "#     '47|13',\n",
    "#     '75|47',\n",
    "#     '97|75',\n",
    "#     '47|61',\n",
    "#     '75|61',\n",
    "#     '47|29',\n",
    "#     '75|13',\n",
    "#     '53|13',\n",
    "# ])\n",
    "\n",
    "# updates = [\n",
    "#     ['75','47','61','53','29'],\n",
    "#     ['97','61','53','29','13'],\n",
    "#     ['75','29','13'],\n",
    "#     ['75','97','47','61','53'],\n",
    "#     ['61','13','29'],\n",
    "#     ['97','13','75','29','47'],\n",
    "# ]\n",
    "\n",
    "valid = []\n",
    "for update in updates:\n",
    "    invalid = False\n",
    "    for i in range(len(update)):\n",
    "        for j in range(i + 1, len(update)):\n",
    "            rule = f\"{update[j]}|{update[i]}\"\n",
    "            if rule in rules:\n",
    "                invalid = True\n",
    "    if not invalid:\n",
    "        valid.append(update)\n",
    "\n",
    "sum([int(row[len(row) // 2]) for row in valid])"
   ]
  },
  {
   "cell_type": "markdown",
   "metadata": {},
   "source": [
    "## Part 2"
   ]
  },
  {
   "cell_type": "code",
   "execution_count": 4,
   "metadata": {},
   "outputs": [
    {
     "data": {
      "text/plain": [
       "4077"
      ]
     },
     "execution_count": 4,
     "metadata": {},
     "output_type": "execute_result"
    }
   ],
   "source": [
    "rules = []\n",
    "updates = []\n",
    "with open(\"../inputs/2024/Day5.txt\", \"r\") as f:\n",
    "    for row in f.readlines():\n",
    "        if \"|\" in row:\n",
    "            rules.append(row.replace(\" \", \"\").replace(\"\\n\", \"\"))\n",
    "        if \",\" in row:\n",
    "            updates.append(row.replace(\" \", \"\").replace(\"\\n\", \"\").split(\",\"))\n",
    "\n",
    "# print(rules)\n",
    "\n",
    "# rules = set([\n",
    "#     '47|53',\n",
    "#     '97|13',\n",
    "#     '97|61',\n",
    "#     '97|47',\n",
    "#     '75|29',\n",
    "#     '61|13',\n",
    "#     '75|53',\n",
    "#     '29|13',\n",
    "#     '97|29',\n",
    "#     '53|29',\n",
    "#     '61|53',\n",
    "#     '97|53',\n",
    "#     '61|29',\n",
    "#     '47|13',\n",
    "#     '75|47',\n",
    "#     '97|75',\n",
    "#     '47|61',\n",
    "#     '75|61',\n",
    "#     '47|29',\n",
    "#     '75|13',\n",
    "#     '53|13',\n",
    "# ])\n",
    "\n",
    "# updates = [\n",
    "#     ['75','47','61','53','29'],\n",
    "#     ['97','61','53','29','13'],\n",
    "#     ['75','29','13'],\n",
    "#     ['75','97','47','61','53'],\n",
    "#     ['61','13','29'],\n",
    "#     ['97','13','75','29','47'],\n",
    "# ]\n",
    "\n",
    "invalid = []\n",
    "for update in updates:\n",
    "    is_invalid = False\n",
    "    for i in range(len(update)):\n",
    "        for j in range(i + 1, len(update)):\n",
    "            rule = f\"{update[j]}|{update[i]}\"\n",
    "            if rule in rules:\n",
    "                update[i], update[j] = update[j], update[i]\n",
    "                is_invalid = True\n",
    "    if is_invalid:\n",
    "        invalid.append(update)\n",
    "\n",
    "sum([int(row[len(row) // 2]) for row in invalid])"
   ]
  }
 ],
 "metadata": {
  "kernelspec": {
   "display_name": "adventofcode2024-s6BZmoNg-py3.12",
   "language": "python",
   "name": "python3"
  },
  "language_info": {
   "codemirror_mode": {
    "name": "ipython",
    "version": 3
   },
   "file_extension": ".py",
   "mimetype": "text/x-python",
   "name": "python",
   "nbconvert_exporter": "python",
   "pygments_lexer": "ipython3",
   "version": "3.12.7"
  }
 },
 "nbformat": 4,
 "nbformat_minor": 2
}
