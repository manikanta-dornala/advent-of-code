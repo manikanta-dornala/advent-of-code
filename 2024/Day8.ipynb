{
 "cells": [
  {
   "cell_type": "code",
   "execution_count": 28,
   "metadata": {},
   "outputs": [],
   "source": [
    "import numpy as np\n",
    "import pandas as pd\n",
    "import warnings\n",
    "from typing import List\n",
    "import math\n",
    "\n",
    "from functools import lru_cache\n",
    "\n",
    "warnings.filterwarnings(\"ignore\")"
   ]
  },
  {
   "cell_type": "code",
   "execution_count": 2,
   "metadata": {},
   "outputs": [],
   "source": [
    "def get_grid(test=True):\n",
    "    if test:\n",
    "        return [\n",
    "            \"............\",\n",
    "            \"........0...\",\n",
    "            \".....0......\",\n",
    "            \".......0....\",\n",
    "            \"....0.......\",\n",
    "            \"......A.....\",\n",
    "            \"............\",\n",
    "            \"............\",\n",
    "            \"........A...\",\n",
    "            \".........A..\",\n",
    "            \"............\",\n",
    "            \"............\",\n",
    "        ]\n",
    "    data = []\n",
    "    with open(\"../inputs/2024/Day8.txt\", \"r\") as f:\n",
    "        for idx, row in enumerate(f.readlines()):\n",
    "            data.append(row.strip().replace(\"\\n\", \"\").replace(\" \", \"\"))\n",
    "    return data"
   ]
  },
  {
   "cell_type": "code",
   "execution_count": 12,
   "metadata": {},
   "outputs": [],
   "source": [
    "def get_dims(grid):\n",
    "    return len(grid), len(grid[0])"
   ]
  },
  {
   "cell_type": "code",
   "execution_count": 10,
   "metadata": {},
   "outputs": [],
   "source": [
    "def get_antennas(grid: List[List[str]]):\n",
    "    antennas = {}\n",
    "    for idy, row in enumerate(grid):\n",
    "        for idx, p in enumerate(row):\n",
    "            if p.isalnum():\n",
    "                if p in antennas:\n",
    "                    antennas[p].append((idx, idy))\n",
    "                else:\n",
    "                    antennas[p] = [(idx, idy)]\n",
    "    return antennas"
   ]
  },
  {
   "cell_type": "code",
   "execution_count": 21,
   "metadata": {},
   "outputs": [],
   "source": [
    "def is_valid(x, y, height, width):\n",
    "    return x >= 0 and x < width and y >= 0 and y < height"
   ]
  },
  {
   "cell_type": "code",
   "execution_count": 16,
   "metadata": {},
   "outputs": [],
   "source": [
    "def get_mask(height, width):\n",
    "    mask = []\n",
    "    for h in range(height):\n",
    "        mask.append([])\n",
    "        for w in range(width):\n",
    "            mask[-1].append(\".\")\n",
    "    return mask"
   ]
  },
  {
   "cell_type": "code",
   "execution_count": 25,
   "metadata": {},
   "outputs": [],
   "source": [
    "def count_anti_nodes(grid):\n",
    "    count = 0\n",
    "    for row in grid:\n",
    "        for p in row:\n",
    "            if p == \"#\":\n",
    "                count += 1\n",
    "    return count"
   ]
  },
  {
   "cell_type": "code",
   "execution_count": 26,
   "metadata": {},
   "outputs": [
    {
     "data": {
      "text/plain": [
       "14"
      ]
     },
     "execution_count": 26,
     "metadata": {},
     "output_type": "execute_result"
    }
   ],
   "source": [
    "def mark_anti_nodes(grid):\n",
    "    height, width = get_dims(grid)\n",
    "    antennas = get_antennas(grid)\n",
    "    mask = get_mask(height=height, width=width)\n",
    "\n",
    "    for a in antennas:\n",
    "        positions = antennas[a]\n",
    "        for i in range(len(positions)):\n",
    "            for j in range(len(positions)):\n",
    "                if i != j:\n",
    "                    pos1 = positions[i]\n",
    "                    pos2 = positions[j]\n",
    "                    node1 = 2 * pos1[0] - pos2[0], 2 * pos1[1] - pos2[1]\n",
    "                    node2 = 2 * pos2[0] - pos1[0], 2 * pos2[1] - pos1[1]\n",
    "                    if is_valid(x=node1[0], y=node1[1], height=height, width=width):\n",
    "                        mask[node1[1]][node1[0]] = \"#\"\n",
    "                    if is_valid(x=node2[0], y=node2[1], height=height, width=width):\n",
    "                        mask[node2[1]][node2[0]] = \"#\"\n",
    "    return mask\n",
    "\n",
    "\n",
    "grid = get_grid()\n",
    "result = mark_anti_nodes(grid)\n",
    "count_anti_nodes(result)"
   ]
  },
  {
   "cell_type": "code",
   "execution_count": 27,
   "metadata": {},
   "outputs": [
    {
     "data": {
      "text/plain": [
       "269"
      ]
     },
     "execution_count": 27,
     "metadata": {},
     "output_type": "execute_result"
    }
   ],
   "source": [
    "grid = get_grid(test=False)\n",
    "result = mark_anti_nodes(grid)\n",
    "count_anti_nodes(result)"
   ]
  },
  {
   "cell_type": "markdown",
   "metadata": {},
   "source": [
    "## Part 2"
   ]
  },
  {
   "cell_type": "code",
   "execution_count": 47,
   "metadata": {},
   "outputs": [
    {
     "name": "stdout",
     "output_type": "stream",
     "text": [
      "34\n"
     ]
    },
    {
     "data": {
      "text/plain": [
       "[['#', '#', '.', '.', '.', '.', '#', '.', '.', '.', '.', '#'],\n",
       " ['.', '#', '.', '#', '.', '.', '.', '.', '#', '.', '.', '.'],\n",
       " ['.', '.', '#', '.', '#', '#', '.', '.', '.', '.', '#', '.'],\n",
       " ['.', '.', '#', '#', '.', '.', '.', '#', '.', '.', '.', '.'],\n",
       " ['.', '.', '.', '.', '#', '.', '.', '.', '.', '#', '.', '.'],\n",
       " ['.', '#', '.', '.', '.', '#', '#', '.', '.', '.', '.', '#'],\n",
       " ['.', '.', '.', '#', '.', '.', '#', '.', '.', '.', '.', '.'],\n",
       " ['#', '.', '.', '.', '.', '#', '.', '#', '.', '.', '.', '.'],\n",
       " ['.', '.', '#', '.', '.', '.', '.', '.', '#', '.', '.', '.'],\n",
       " ['.', '.', '.', '.', '#', '.', '.', '.', '.', '#', '.', '.'],\n",
       " ['.', '#', '.', '.', '.', '.', '.', '.', '.', '.', '#', '.'],\n",
       " ['.', '.', '.', '#', '.', '.', '.', '.', '.', '.', '#', '#']]"
      ]
     },
     "execution_count": 47,
     "metadata": {},
     "output_type": "execute_result"
    }
   ],
   "source": [
    "def mark_anti_nodes(grid):\n",
    "    height, width = get_dims(grid)\n",
    "    antennas = get_antennas(grid)\n",
    "    mask = get_mask(height=height, width=width)\n",
    "    for a in antennas:\n",
    "        positions = antennas[a]\n",
    "        for i in range(len(positions)):\n",
    "            for j in range(len(positions)):\n",
    "                if i != j:\n",
    "                    pos1 = positions[i]\n",
    "                    pos2 = positions[j]\n",
    "                    dir = pos2[0] - pos1[0], pos2[1] - pos1[1]\n",
    "                    gcd = math.gcd(abs(dir[0]), abs(dir[1]))\n",
    "                    dir = dir[0] // gcd, dir[1] // gcd\n",
    "                    pos = pos1[0], pos1[1]\n",
    "                    k = 1\n",
    "                    while is_valid(x=pos[0], y=pos[1], height=height, width=width):\n",
    "                        mask[pos[1]][pos[0]] = \"#\"\n",
    "                        pos = pos1[0] + k * dir[0], pos1[1] + k * dir[1]\n",
    "                        k += 1\n",
    "                    pos = pos1[0], pos1[1]\n",
    "                    k = 1\n",
    "                    while is_valid(x=pos[0], y=pos[1], height=height, width=width):\n",
    "                        mask[pos[1]][pos[0]] = \"#\"\n",
    "                        pos = pos1[0] - k * dir[0], pos1[1] - k * dir[1]\n",
    "                        k += 1\n",
    "    return mask\n",
    "\n",
    "\n",
    "grid = get_grid()\n",
    "result = mark_anti_nodes(grid)\n",
    "print(count_anti_nodes(result))\n",
    "result"
   ]
  },
  {
   "cell_type": "code",
   "execution_count": 48,
   "metadata": {},
   "outputs": [
    {
     "name": "stdout",
     "output_type": "stream",
     "text": [
      "949\n"
     ]
    }
   ],
   "source": [
    "grid = get_grid(test=False)\n",
    "result = mark_anti_nodes(grid)\n",
    "print(count_anti_nodes(result))\n",
    "# result"
   ]
  }
 ],
 "metadata": {
  "kernelspec": {
   "display_name": "adventofcode2024-s6BZmoNg-py3.12",
   "language": "python",
   "name": "python3"
  },
  "language_info": {
   "codemirror_mode": {
    "name": "ipython",
    "version": 3
   },
   "file_extension": ".py",
   "mimetype": "text/x-python",
   "name": "python",
   "nbconvert_exporter": "python",
   "pygments_lexer": "ipython3",
   "version": "3.12.7"
  }
 },
 "nbformat": 4,
 "nbformat_minor": 2
}
