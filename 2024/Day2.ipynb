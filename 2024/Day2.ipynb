{
 "cells": [
  {
   "cell_type": "code",
   "execution_count": 110,
   "metadata": {},
   "outputs": [],
   "source": [
    "import numpy as np\n",
    "import pandas as pd\n",
    "import warnings\n",
    "from functools import lru_cache\n",
    "warnings.filterwarnings('ignore')"
   ]
  },
  {
   "cell_type": "code",
   "execution_count": 114,
   "metadata": {},
   "outputs": [],
   "source": [
    "reports = []\n",
    "with open('Day2.txt', 'r') as f:\n",
    "    for line in f.readlines():\n",
    "        reports.append([int(x) for x in line.split(' ')])"
   ]
  },
  {
   "cell_type": "code",
   "execution_count": 115,
   "metadata": {},
   "outputs": [
    {
     "data": {
      "text/plain": [
       "402"
      ]
     },
     "execution_count": 115,
     "metadata": {},
     "output_type": "execute_result"
    }
   ],
   "source": [
    "# Part 1\n",
    "def is_safe(report):\n",
    "    last_direction = None\n",
    "    for i in range(1,len(report)):\n",
    "        delta = report[i] - report[i-1]\n",
    "        direction = delta>0\n",
    "        if abs(delta) not in [1,2,3]:\n",
    "            return False\n",
    "        if last_direction == None:\n",
    "            last_direction = direction\n",
    "            continue\n",
    "        if last_direction != direction:\n",
    "            return False\n",
    "        last_direction = direction\n",
    "    return True\n",
    "\n",
    "safe_count = 0\n",
    "for report in reports:\n",
    "    safe_count += int(is_safe(report))\n",
    "safe_count"
   ]
  },
  {
   "cell_type": "code",
   "execution_count": 116,
   "metadata": {},
   "outputs": [
    {
     "data": {
      "text/plain": [
       "455"
      ]
     },
     "execution_count": 116,
     "metadata": {},
     "output_type": "execute_result"
    }
   ],
   "source": [
    "# Part 2\n",
    "\n",
    "def is_safe_with_dampening(report):\n",
    "    if is_safe(report):\n",
    "        return True\n",
    "    # remove one element and check if its safe\n",
    "    for i in range(len(report)):\n",
    "        if is_safe(report[:i]+report[i+1:]):\n",
    "            return True\n",
    "    return False\n",
    "\n",
    "safe_count = 0\n",
    "for report in reports:\n",
    "    safe_count += int(is_safe_with_dampening(report))\n",
    "safe_count"
   ]
  }
 ],
 "metadata": {
  "kernelspec": {
   "display_name": "adventofcode2024-s6BZmoNg-py3.12",
   "language": "python",
   "name": "python3"
  },
  "language_info": {
   "codemirror_mode": {
    "name": "ipython",
    "version": 3
   },
   "file_extension": ".py",
   "mimetype": "text/x-python",
   "name": "python",
   "nbconvert_exporter": "python",
   "pygments_lexer": "ipython3",
   "version": "3.12.7"
  }
 },
 "nbformat": 4,
 "nbformat_minor": 2
}
