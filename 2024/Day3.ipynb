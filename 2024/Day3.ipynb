{
 "cells": [
  {
   "cell_type": "code",
   "execution_count": 1,
   "metadata": {},
   "outputs": [],
   "source": [
    "import numpy as np\n",
    "import pandas as pd\n",
    "import warnings\n",
    "from functools import lru_cache\n",
    "\n",
    "warnings.filterwarnings(\"ignore\")"
   ]
  },
  {
   "cell_type": "code",
   "execution_count": 4,
   "metadata": {},
   "outputs": [
    {
     "name": "stdout",
     "output_type": "stream",
     "text": [
      "179571322\n"
     ]
    }
   ],
   "source": [
    "code = \"\"\n",
    "with open(\"../inputs/2024/Day3.txt\", \"r\") as f:\n",
    "    code = f.read()\n",
    "code\n",
    "\n",
    "# code = 'xmul(2,4)%&mul[3,7]!@^do_not_mul(5,5)+mul(32,64]then(mul(11,8)mul(8,5))'\n",
    "\n",
    "result = 0\n",
    "i = 0\n",
    "while i < len(code):\n",
    "    if code[i : i + 4] == \"mul(\":\n",
    "        # print(i, code[i:i+4])\n",
    "        i = i + 4\n",
    "        digits = \"\"\n",
    "        while code[i].isdigit():\n",
    "            digits += code[i]\n",
    "            i += 1\n",
    "        if code[i] != \",\":\n",
    "            continue\n",
    "        x = int(digits, base=10)\n",
    "\n",
    "        digits = \"\"\n",
    "        i += 1\n",
    "        while code[i].isdigit():\n",
    "            digits += code[i]\n",
    "            i += 1\n",
    "        if code[i] != \")\":\n",
    "            continue\n",
    "        y = int(digits, base=10)\n",
    "\n",
    "        # print(f\"mul({x},{y})\")\n",
    "        result = result + (x * y)\n",
    "    i += 1\n",
    "print(result)"
   ]
  },
  {
   "cell_type": "markdown",
   "metadata": {},
   "source": [
    "## Part 2"
   ]
  },
  {
   "cell_type": "code",
   "execution_count": 5,
   "metadata": {},
   "outputs": [
    {
     "name": "stdout",
     "output_type": "stream",
     "text": [
      "103811193\n"
     ]
    }
   ],
   "source": [
    "code = \"\"\n",
    "with open(\"../inputs/2024/Day3.txt\", \"r\") as f:\n",
    "    code = f.read()\n",
    "code\n",
    "\n",
    "# code = 'xmul(2,4)%&mul[3,7]!@^do_not_mul(5,5)+mul(32,64]then(mul(11,8)mul(8,5))'\n",
    "# print(code)\n",
    "\n",
    "result = 0\n",
    "i = 0\n",
    "is_enbled = True\n",
    "while i < len(code):\n",
    "    if code[i : i + 7] == \"don't()\":\n",
    "        is_enbled = False\n",
    "    if code[i : i + 4] == \"do()\":\n",
    "        is_enbled = True\n",
    "\n",
    "    if code[i : i + 4] == \"mul(\":\n",
    "        # print(i, code[i:i+4])\n",
    "        i = i + 4\n",
    "        digits = \"\"\n",
    "        while code[i].isdigit():\n",
    "            digits += code[i]\n",
    "            i += 1\n",
    "        if code[i] != \",\":\n",
    "            continue\n",
    "        x = int(digits, base=10)\n",
    "\n",
    "        digits = \"\"\n",
    "        i += 1\n",
    "        while code[i].isdigit():\n",
    "            digits += code[i]\n",
    "            i += 1\n",
    "        if code[i] != \")\":\n",
    "            continue\n",
    "        y = int(digits, base=10)\n",
    "\n",
    "        # print(f\"mul({x},{y})\")\n",
    "        if is_enbled:\n",
    "            result = result + (x * y)\n",
    "    i += 1\n",
    "print(result)"
   ]
  }
 ],
 "metadata": {
  "kernelspec": {
   "display_name": "adventofcode2024-s6BZmoNg-py3.12",
   "language": "python",
   "name": "python3"
  },
  "language_info": {
   "codemirror_mode": {
    "name": "ipython",
    "version": 3
   },
   "file_extension": ".py",
   "mimetype": "text/x-python",
   "name": "python",
   "nbconvert_exporter": "python",
   "pygments_lexer": "ipython3",
   "version": "3.12.7"
  }
 },
 "nbformat": 4,
 "nbformat_minor": 2
}
