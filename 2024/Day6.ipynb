{
 "cells": [
  {
   "cell_type": "code",
   "execution_count": 1,
   "metadata": {},
   "outputs": [],
   "source": [
    "import numpy as np\n",
    "import pandas as pd\n",
    "import warnings\n",
    "from functools import lru_cache\n",
    "\n",
    "warnings.filterwarnings(\"ignore\")"
   ]
  },
  {
   "cell_type": "code",
   "execution_count": 5,
   "metadata": {},
   "outputs": [
    {
     "name": "stdout",
     "output_type": "stream",
     "text": [
      "4758\n"
     ]
    }
   ],
   "source": [
    "grid = []\n",
    "mask = []\n",
    "x, y = 0, 0\n",
    "with open(\"../inputs/2024/Day6.txt\", \"r\") as f:\n",
    "    for idx, row in enumerate(f.readlines()):\n",
    "        grid.append([c for c in row.replace(\" \", \"\").replace(\"\\n\", \"\")])\n",
    "        mask.append([\".\"] * len(grid[-1]))\n",
    "        if \"^\" in row:\n",
    "            x, y = row.index(\"^\"), idx\n",
    "height = len(grid)\n",
    "width = len(grid[0])\n",
    "i = 0\n",
    "while x >= 0 and x < width and y >= 0 and y < height and i < 10000:\n",
    "    mask[y][x] = \"X\"\n",
    "    if grid[y][x] == \"^\":\n",
    "        if y - 1 < 0 or grid[y - 1][x] == \".\":\n",
    "            grid[y][x] = \".\"\n",
    "            x, y = x, y - 1\n",
    "            if x >= 0 and x < width and y >= 0 and y < height:\n",
    "                grid[y][x] = \"^\"\n",
    "        else:\n",
    "            grid[y][x] = \">\"\n",
    "    elif grid[y][x] == \"v\":\n",
    "        if y + 1 >= height or grid[y + 1][x] == \".\":\n",
    "            grid[y][x] = \".\"\n",
    "            x, y = x, y + 1\n",
    "            if x >= 0 and x < width and y >= 0 and y < height:\n",
    "                grid[y][x] = \"v\"\n",
    "        else:\n",
    "            grid[y][x] = \"<\"\n",
    "    elif grid[y][x] == \">\":\n",
    "        if x + 1 >= width or grid[y][x + 1] == \".\":\n",
    "            grid[y][x] = \".\"\n",
    "            x, y = x + 1, y\n",
    "            if x >= 0 and x < width and y >= 0 and y < height:\n",
    "                grid[y][x] = \">\"\n",
    "        else:\n",
    "            grid[y][x] = \"v\"\n",
    "    elif grid[y][x] == \"<\":\n",
    "        if x - 1 < 0 or grid[y][x - 1] == \".\":\n",
    "            grid[y][x] = \".\"\n",
    "            x, y = x - 1, y\n",
    "            if x >= 0 and x < width and y >= 0 and y < height:\n",
    "                grid[y][x] = \"<\"\n",
    "        else:\n",
    "            grid[y][x] = \"^\"\n",
    "    i += 1\n",
    "\n",
    "count = 0\n",
    "for row in mask:\n",
    "    for p in row:\n",
    "        if p == \"X\":\n",
    "            count += 1\n",
    "print(count)"
   ]
  }
 ],
 "metadata": {
  "kernelspec": {
   "display_name": "adventofcode2024-s6BZmoNg-py3.12",
   "language": "python",
   "name": "python3"
  },
  "language_info": {
   "codemirror_mode": {
    "name": "ipython",
    "version": 3
   },
   "file_extension": ".py",
   "mimetype": "text/x-python",
   "name": "python",
   "nbconvert_exporter": "python",
   "pygments_lexer": "ipython3",
   "version": "3.12.7"
  }
 },
 "nbformat": 4,
 "nbformat_minor": 2
}
