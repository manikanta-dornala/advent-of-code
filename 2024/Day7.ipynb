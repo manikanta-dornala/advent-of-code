{
 "cells": [
  {
   "cell_type": "code",
   "execution_count": 1,
   "metadata": {},
   "outputs": [],
   "source": [
    "import numpy as np\n",
    "import pandas as pd\n",
    "import warnings\n",
    "from functools import lru_cache\n",
    "\n",
    "warnings.filterwarnings(\"ignore\")"
   ]
  },
  {
   "cell_type": "code",
   "execution_count": 5,
   "metadata": {},
   "outputs": [],
   "source": [
    "def get_input(test=True):\n",
    "    if test:\n",
    "        return [\n",
    "            (190, [10, 19]),\n",
    "            (3267, [81, 40, 27]),\n",
    "            (83, [17, 5]),\n",
    "            (156, [15, 6]),\n",
    "            (7290, [6, 8, 6, 15]),\n",
    "            (161011, [16, 10, 13]),\n",
    "            (192, [17, 8, 14]),\n",
    "            (21037, [9, 7, 18, 13]),\n",
    "            (292, [11, 6, 16, 20]),\n",
    "        ]\n",
    "    data=[]\n",
    "    with open(\"../inputs/2024/Day7.txt\", \"r\") as f:\n",
    "        for idx, row in enumerate(f.readlines()):\n",
    "            result, params = row.strip().split(':')\n",
    "            params = [int(x) for x in params.strip().split(' ')]\n",
    "            data.append((int(result), params))\n",
    "    return data"
   ]
  },
  {
   "cell_type": "code",
   "execution_count": null,
   "metadata": {},
   "outputs": [
    {
     "data": {
      "text/plain": [
       "[148, 3267, 3267, 87480]"
      ]
     },
     "execution_count": 3,
     "metadata": {},
     "output_type": "execute_result"
    }
   ],
   "source": [
    "def evaluate(params):\n",
    "    if len(params)==1:\n",
    "        return params\n",
    "    x = params[-1]\n",
    "    results = []\n",
    "    for sub in evaluate(params[:-1]):\n",
    "        results.append(sub+x)\n",
    "        results.append(sub*x)\n",
    "    return results\n",
    "\n",
    "evaluate([81, 40, 27])"
   ]
  },
  {
   "cell_type": "code",
   "execution_count": 7,
   "metadata": {},
   "outputs": [
    {
     "data": {
      "text/plain": [
       "3749"
      ]
     },
     "execution_count": 7,
     "metadata": {},
     "output_type": "execute_result"
    }
   ],
   "source": [
    "valid = []\n",
    "for result, params in get_input():\n",
    "    if result in evaluate(params=params):\n",
    "        valid.append(result)\n",
    "\n",
    "sum(valid)"
   ]
  },
  {
   "cell_type": "code",
   "execution_count": 9,
   "metadata": {},
   "outputs": [
    {
     "data": {
      "text/plain": [
       "945512582195"
      ]
     },
     "execution_count": 9,
     "metadata": {},
     "output_type": "execute_result"
    }
   ],
   "source": [
    "valid = []\n",
    "for result, params in get_input(test=False):\n",
    "    if result in evaluate(params=params):\n",
    "        valid.append(result)\n",
    "\n",
    "sum(valid)"
   ]
  },
  {
   "cell_type": "code",
   "execution_count": 22,
   "metadata": {},
   "outputs": [
    {
     "name": "stdout",
     "output_type": "stream",
     "text": [
      "[35, 300, 2015, 99, 1260, 8415, 161, 2190, 14615, 69, 810, 5415, 303, 4320, 28815, 501, 7290, 48615, 89, 1110, 7415, 423, 6120, 40815, 701, 10290, 68615]\n"
     ]
    }
   ],
   "source": [
    "def evaluate2(params):\n",
    "    if len(params)==1:\n",
    "        # print(params[0])\n",
    "        return params\n",
    "    x = params[-1]\n",
    "    results = []\n",
    "    for sub in evaluate2(params[:-1]):\n",
    "        results.append(sub+x)\n",
    "        # print(f\"{sub}+{x}={sub+x}\")\n",
    "        results.append(sub*x)\n",
    "        # print(f\"{sub}*{x}={sub*x}\")\n",
    "        new = int(f\"{sub}{x}\")\n",
    "        # print(f\"{sub}||{x}={new}\")\n",
    "        results.append(new)\n",
    "    return results\n",
    "\n",
    "# print(evaluate([6, 8, 6, 15]))\n",
    "print(evaluate2([6, 8, 6, 15]))"
   ]
  },
  {
   "cell_type": "code",
   "execution_count": 24,
   "metadata": {},
   "outputs": [
    {
     "data": {
      "text/plain": [
       "11387"
      ]
     },
     "execution_count": 24,
     "metadata": {},
     "output_type": "execute_result"
    }
   ],
   "source": [
    "valid = []\n",
    "for result, params in get_input(test=True):\n",
    "    if result in evaluate2(params=params):\n",
    "        valid.append(result)\n",
    "\n",
    "sum(valid)"
   ]
  },
  {
   "cell_type": "code",
   "execution_count": 25,
   "metadata": {},
   "outputs": [
    {
     "data": {
      "text/plain": [
       "271691107779347"
      ]
     },
     "execution_count": 25,
     "metadata": {},
     "output_type": "execute_result"
    }
   ],
   "source": [
    "valid = []\n",
    "for result, params in get_input(test=False):\n",
    "    if result in evaluate2(params=params):\n",
    "        valid.append(result)\n",
    "\n",
    "sum(valid)"
   ]
  },
  {
   "cell_type": "code",
   "execution_count": null,
   "metadata": {},
   "outputs": [],
   "source": []
  }
 ],
 "metadata": {
  "kernelspec": {
   "display_name": "adventofcode2024-s6BZmoNg-py3.12",
   "language": "python",
   "name": "python3"
  },
  "language_info": {
   "codemirror_mode": {
    "name": "ipython",
    "version": 3
   },
   "file_extension": ".py",
   "mimetype": "text/x-python",
   "name": "python",
   "nbconvert_exporter": "python",
   "pygments_lexer": "ipython3",
   "version": "3.12.7"
  }
 },
 "nbformat": 4,
 "nbformat_minor": 2
}
