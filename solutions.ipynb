{
 "cells": [
  {
   "cell_type": "markdown",
   "metadata": {},
   "source": [
    "# Day 1"
   ]
  },
  {
   "cell_type": "code",
   "execution_count": 53,
   "metadata": {},
   "outputs": [],
   "source": [
    "import numpy as np\n",
    "import pandas as pd\n",
    "import warnings\n",
    "warnings.filterwarnings('ignore')"
   ]
  },
  {
   "cell_type": "code",
   "execution_count": 54,
   "metadata": {},
   "outputs": [],
   "source": [
    "df = pd.read_csv(\"Day1.txt\", header=None, sep=\"   \")\n",
    "df.columns=['a', 'b']"
   ]
  },
  {
   "cell_type": "code",
   "execution_count": 46,
   "metadata": {},
   "outputs": [
    {
     "data": {
      "text/plain": [
       "np.int64(2580760)"
      ]
     },
     "execution_count": 46,
     "metadata": {},
     "output_type": "execute_result"
    }
   ],
   "source": [
    "# Part 1\n",
    "result = df.a.sort_values().reset_index(drop=True) - df.b.sort_values().reset_index(drop=True)\n",
    "result.abs().sum()"
   ]
  },
  {
   "cell_type": "code",
   "execution_count": 47,
   "metadata": {},
   "outputs": [
    {
     "data": {
      "text/plain": [
       "a    25358365\n",
       "b    25358365\n",
       "dtype: int64"
      ]
     },
     "execution_count": 47,
     "metadata": {},
     "output_type": "execute_result"
    }
   ],
   "source": [
    "# Part 2\n",
    "\n",
    "result = 0\n",
    "for a in df.a.values:\n",
    "    result += df[df.b == a].count() * a\n",
    "result"
   ]
  },
  {
   "cell_type": "markdown",
   "metadata": {},
   "source": [
    "# Day 2"
   ]
  },
  {
   "cell_type": "code",
   "execution_count": 48,
   "metadata": {},
   "outputs": [],
   "source": [
    "reports = []\n",
    "with open('Day2.txt', 'r') as f:\n",
    "    for line in f.readlines():\n",
    "        reports.append([int(x) for x in line.split(' ')])"
   ]
  },
  {
   "cell_type": "code",
   "execution_count": 51,
   "metadata": {},
   "outputs": [
    {
     "data": {
      "text/plain": [
       "402"
      ]
     },
     "execution_count": 51,
     "metadata": {},
     "output_type": "execute_result"
    }
   ],
   "source": [
    "# Part 1\n",
    "def is_safe(report):\n",
    "    last_direction = None\n",
    "    for i in range(1,len(report)):\n",
    "        delta = report[i] - report[i-1]\n",
    "        direction = delta>0\n",
    "        if abs(delta) not in [1,2,3]:\n",
    "            return False\n",
    "        if last_direction == None:\n",
    "            last_direction = direction\n",
    "            continue\n",
    "        if last_direction != direction:\n",
    "            return False\n",
    "        last_direction = direction\n",
    "    return True\n",
    "\n",
    "safe_count = 0\n",
    "for report in reports:\n",
    "    safe_count += int(is_safe(report))\n",
    "safe_count\n"
   ]
  }
 ],
 "metadata": {
  "kernelspec": {
   "display_name": "adventofcode2024-s6BZmoNg-py3.12",
   "language": "python",
   "name": "python3"
  },
  "language_info": {
   "codemirror_mode": {
    "name": "ipython",
    "version": 3
   },
   "file_extension": ".py",
   "mimetype": "text/x-python",
   "name": "python",
   "nbconvert_exporter": "python",
   "pygments_lexer": "ipython3",
   "version": "3.12.7"
  }
 },
 "nbformat": 4,
 "nbformat_minor": 2
}
